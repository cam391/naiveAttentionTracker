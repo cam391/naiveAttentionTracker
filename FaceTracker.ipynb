{
 "cells": [
  {
   "cell_type": "code",
   "execution_count": 1,
   "metadata": {},
   "outputs": [
    {
     "ename": "KeyboardInterrupt",
     "evalue": "",
     "output_type": "error",
     "traceback": [
      "\u001b[1;31m---------------------------------------------------------------------------\u001b[0m",
      "\u001b[1;31mKeyboardInterrupt\u001b[0m                         Traceback (most recent call last)",
      "Input \u001b[1;32mIn [1]\u001b[0m, in \u001b[0;36m<cell line: 33>\u001b[1;34m()\u001b[0m\n\u001b[0;32m     55\u001b[0m cv2\u001b[38;5;241m.\u001b[39mimshow(\u001b[38;5;124m'\u001b[39m\u001b[38;5;124mimg\u001b[39m\u001b[38;5;124m'\u001b[39m,img) \n\u001b[0;32m     57\u001b[0m \u001b[38;5;66;03m# Wait for Esc key to stop \u001b[39;00m\n\u001b[1;32m---> 58\u001b[0m k \u001b[38;5;241m=\u001b[39m \u001b[43mcv2\u001b[49m\u001b[38;5;241;43m.\u001b[39;49m\u001b[43mwaitKey\u001b[49m\u001b[43m(\u001b[49m\u001b[38;5;241;43m30\u001b[39;49m\u001b[43m)\u001b[49m \u001b[38;5;241m&\u001b[39m \u001b[38;5;241m0xff\u001b[39m\n\u001b[0;32m     59\u001b[0m \u001b[38;5;28;01mif\u001b[39;00m k \u001b[38;5;241m==\u001b[39m \u001b[38;5;241m27\u001b[39m: \n\u001b[0;32m     60\u001b[0m     \u001b[38;5;28;01mbreak\u001b[39;00m\n",
      "\u001b[1;31mKeyboardInterrupt\u001b[0m: "
     ]
    }
   ],
   "source": [
    "# This project is a quick practice exploring the potential uses of the Viola-Jones algorithm to track user's attention\n",
    "# The following code is almost entirely from https://www.geeksforgeeks.org/opencv-python-program-face-detection/\n",
    "\n",
    "# OpenCV program to detect face in real time \n",
    "# import libraries of python OpenCV  \n",
    "# where its functionality resides \n",
    "import cv2\n",
    "import tkinter\n",
    "from playsound import playsound\n",
    "\n",
    "\n",
    "# Tuning Parameter (starting param is 3.24, but may need to be tuned to different faces and lighting conditions)\n",
    "TUNINGPARAM = 3.24\n",
    "\n",
    "# load the required trained XML classifiers \n",
    "# https://github.com/Itseez/opencv/blob/master/ \n",
    "# data/haarcascades/haarcascade_frontalface_default.xml \n",
    "# Trained XML classifiers describes some features of some \n",
    "# object we want to detect a cascade function is trained \n",
    "# from a lot of positive(faces) and negative(non-faces) \n",
    "# images. \n",
    "face_cascade = cv2.CascadeClassifier(r'C:\\Users\\cam391\\anaconda3\\Lib\\site-packages\\cv2\\data\\haarcascade_frontalface_default.xml')\n",
    "\n",
    "# capture frames from a camera \n",
    "cap = cv2.VideoCapture(0) \n",
    "\n",
    "timeTracker = 0\n",
    "  \n",
    "# loop runs if capturing has been initialized. \n",
    "while 1:  \n",
    "  \n",
    "    # reads frames from a camera \n",
    "    ret, img = cap.read()  \n",
    "  \n",
    "    # convert to gray scale of each frames \n",
    "    gray = cv2.cvtColor(img, cv2.COLOR_BGR2GRAY) \n",
    "      \n",
    "    # Detects faces of different sizes in the input image \n",
    "    faces = face_cascade.detectMultiScale(gray, TUNINGPARAM, 1, 0) \n",
    "    \n",
    "    # if user face not detected for a length of time, play a sound indicating that the user should re-assert their attention\n",
    "    if timeTracker > 20:\n",
    "        playsound(r\"C:\\Users\\cam391\\Downloads\\Computer-beep-beeping-1-www.FesliyanStudios.com.mp3\")\n",
    "    if len(faces) == 0:\n",
    "        timeTracker += 1\n",
    "    else:\n",
    "        timeTracker = 0\n",
    "        for (x,y,w,h) in faces:\n",
    "            # To draw a rectangle in a face  \n",
    "            cv2.rectangle(img,(x,y),(x+w,y+h),(255,255,0),2)  \n",
    "            roi_gray = gray[y:y+h, x:x+w] \n",
    "            roi_color = img[y:y+h, x:x+w]\n",
    "            \n",
    "    # Display an image in a window (comment this out if you want the program to run without opening a window)\n",
    "    cv2.imshow('img',img) \n",
    "  \n",
    "    # Wait for Esc key to stop \n",
    "    k = cv2.waitKey(30) & 0xff\n",
    "    if k == 27: \n",
    "        break\n",
    "  \n",
    "# Close the window \n",
    "cap.release() \n",
    "  \n",
    "# De-allocate any associated memory usage \n",
    "cv2.destroyAllWindows()  "
   ]
  },
  {
   "cell_type": "code",
   "execution_count": null,
   "metadata": {},
   "outputs": [],
   "source": []
  }
 ],
 "metadata": {
  "kernelspec": {
   "display_name": "Python 3 (ipykernel)",
   "language": "python",
   "name": "python3"
  },
  "language_info": {
   "codemirror_mode": {
    "name": "ipython",
    "version": 3
   },
   "file_extension": ".py",
   "mimetype": "text/x-python",
   "name": "python",
   "nbconvert_exporter": "python",
   "pygments_lexer": "ipython3",
   "version": "3.8.3"
  }
 },
 "nbformat": 4,
 "nbformat_minor": 4
}
